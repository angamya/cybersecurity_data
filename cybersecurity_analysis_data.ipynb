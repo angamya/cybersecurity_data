{
 "cells": [
  {
   "cell_type": "code",
   "execution_count": 2,
   "id": "86903ab6-1b43-4738-b5ce-7cd6a09e14cf",
   "metadata": {},
   "outputs": [],
   "source": [
    "import pandas as pd\n",
    "import numpy as np\n",
    "#%pip install seaborn\n",
    "import seaborn as sns\n",
    "#%pip install matplotlib\n",
    "import matplotlib.pyplot as plt"
   ]
  },
  {
   "cell_type": "code",
   "execution_count": 10,
   "id": "910912ad-cbd1-4c30-907d-72f5e74706f9",
   "metadata": {},
   "outputs": [],
   "source": [
    "import warnings\n",
    "warnings.filterwarnings(\"ignore\")"
   ]
  },
  {
   "cell_type": "code",
   "execution_count": 11,
   "id": "072c6da9-9544-47a2-b8ec-ee7b7933de01",
   "metadata": {},
   "outputs": [
    {
     "data": {
      "text/html": [
       "<div>\n",
       "<style scoped>\n",
       "    .dataframe tbody tr th:only-of-type {\n",
       "        vertical-align: middle;\n",
       "    }\n",
       "\n",
       "    .dataframe tbody tr th {\n",
       "        vertical-align: top;\n",
       "    }\n",
       "\n",
       "    .dataframe thead th {\n",
       "        text-align: right;\n",
       "    }\n",
       "</style>\n",
       "<table border=\"1\" class=\"dataframe\">\n",
       "  <thead>\n",
       "    <tr style=\"text-align: right;\">\n",
       "      <th></th>\n",
       "      <th>0</th>\n",
       "      <th>1</th>\n",
       "      <th>2</th>\n",
       "      <th>3</th>\n",
       "      <th>4</th>\n",
       "    </tr>\n",
       "  </thead>\n",
       "  <tbody>\n",
       "    <tr>\n",
       "      <th>Timestamp</th>\n",
       "      <td>2023-05-30 06:33:58</td>\n",
       "      <td>2020-08-26 07:08:30</td>\n",
       "      <td>2022-11-13 08:23:25</td>\n",
       "      <td>2023-07-02 10:38:46</td>\n",
       "      <td>2023-07-16 13:11:07</td>\n",
       "    </tr>\n",
       "    <tr>\n",
       "      <th>Source IP Address</th>\n",
       "      <td>103.216.15.12</td>\n",
       "      <td>78.199.217.198</td>\n",
       "      <td>63.79.210.48</td>\n",
       "      <td>163.42.196.10</td>\n",
       "      <td>71.166.185.76</td>\n",
       "    </tr>\n",
       "    <tr>\n",
       "      <th>Destination IP Address</th>\n",
       "      <td>84.9.164.252</td>\n",
       "      <td>66.191.137.154</td>\n",
       "      <td>198.219.82.17</td>\n",
       "      <td>101.228.192.255</td>\n",
       "      <td>189.243.174.238</td>\n",
       "    </tr>\n",
       "    <tr>\n",
       "      <th>Source Port</th>\n",
       "      <td>31225</td>\n",
       "      <td>17245</td>\n",
       "      <td>16811</td>\n",
       "      <td>20018</td>\n",
       "      <td>6131</td>\n",
       "    </tr>\n",
       "    <tr>\n",
       "      <th>Destination Port</th>\n",
       "      <td>17616</td>\n",
       "      <td>48166</td>\n",
       "      <td>53600</td>\n",
       "      <td>32534</td>\n",
       "      <td>26646</td>\n",
       "    </tr>\n",
       "    <tr>\n",
       "      <th>Protocol</th>\n",
       "      <td>ICMP</td>\n",
       "      <td>ICMP</td>\n",
       "      <td>UDP</td>\n",
       "      <td>UDP</td>\n",
       "      <td>TCP</td>\n",
       "    </tr>\n",
       "    <tr>\n",
       "      <th>Packet Length</th>\n",
       "      <td>503</td>\n",
       "      <td>1174</td>\n",
       "      <td>306</td>\n",
       "      <td>385</td>\n",
       "      <td>1462</td>\n",
       "    </tr>\n",
       "    <tr>\n",
       "      <th>Packet Type</th>\n",
       "      <td>Data</td>\n",
       "      <td>Data</td>\n",
       "      <td>Control</td>\n",
       "      <td>Data</td>\n",
       "      <td>Data</td>\n",
       "    </tr>\n",
       "    <tr>\n",
       "      <th>Traffic Type</th>\n",
       "      <td>HTTP</td>\n",
       "      <td>HTTP</td>\n",
       "      <td>HTTP</td>\n",
       "      <td>HTTP</td>\n",
       "      <td>DNS</td>\n",
       "    </tr>\n",
       "    <tr>\n",
       "      <th>Payload Data</th>\n",
       "      <td>Qui natus odio asperiores nam. Optio nobis ius...</td>\n",
       "      <td>Aperiam quos modi officiis veritatis rem. Omni...</td>\n",
       "      <td>Perferendis sapiente vitae soluta. Hic delectu...</td>\n",
       "      <td>Totam maxime beatae expedita explicabo porro l...</td>\n",
       "      <td>Odit nesciunt dolorem nisi iste iusto. Animi v...</td>\n",
       "    </tr>\n",
       "    <tr>\n",
       "      <th>Malware Indicators</th>\n",
       "      <td>IoC Detected</td>\n",
       "      <td>IoC Detected</td>\n",
       "      <td>IoC Detected</td>\n",
       "      <td>NaN</td>\n",
       "      <td>NaN</td>\n",
       "    </tr>\n",
       "    <tr>\n",
       "      <th>Anomaly Scores</th>\n",
       "      <td>28.67</td>\n",
       "      <td>51.5</td>\n",
       "      <td>87.42</td>\n",
       "      <td>15.79</td>\n",
       "      <td>0.52</td>\n",
       "    </tr>\n",
       "    <tr>\n",
       "      <th>Alerts/Warnings</th>\n",
       "      <td>NaN</td>\n",
       "      <td>NaN</td>\n",
       "      <td>Alert Triggered</td>\n",
       "      <td>Alert Triggered</td>\n",
       "      <td>Alert Triggered</td>\n",
       "    </tr>\n",
       "    <tr>\n",
       "      <th>Attack Type</th>\n",
       "      <td>Malware</td>\n",
       "      <td>Malware</td>\n",
       "      <td>DDoS</td>\n",
       "      <td>Malware</td>\n",
       "      <td>DDoS</td>\n",
       "    </tr>\n",
       "    <tr>\n",
       "      <th>Attack Signature</th>\n",
       "      <td>Known Pattern B</td>\n",
       "      <td>Known Pattern A</td>\n",
       "      <td>Known Pattern B</td>\n",
       "      <td>Known Pattern B</td>\n",
       "      <td>Known Pattern B</td>\n",
       "    </tr>\n",
       "    <tr>\n",
       "      <th>Action Taken</th>\n",
       "      <td>Logged</td>\n",
       "      <td>Blocked</td>\n",
       "      <td>Ignored</td>\n",
       "      <td>Blocked</td>\n",
       "      <td>Blocked</td>\n",
       "    </tr>\n",
       "    <tr>\n",
       "      <th>Severity Level</th>\n",
       "      <td>Low</td>\n",
       "      <td>Low</td>\n",
       "      <td>Low</td>\n",
       "      <td>Medium</td>\n",
       "      <td>Low</td>\n",
       "    </tr>\n",
       "    <tr>\n",
       "      <th>User Information</th>\n",
       "      <td>Reyansh Dugal</td>\n",
       "      <td>Sumer Rana</td>\n",
       "      <td>Himmat Karpe</td>\n",
       "      <td>Fateh Kibe</td>\n",
       "      <td>Dhanush Chad</td>\n",
       "    </tr>\n",
       "    <tr>\n",
       "      <th>Device Information</th>\n",
       "      <td>Mozilla/5.0 (compatible; MSIE 8.0; Windows NT ...</td>\n",
       "      <td>Mozilla/5.0 (compatible; MSIE 8.0; Windows NT ...</td>\n",
       "      <td>Mozilla/5.0 (compatible; MSIE 9.0; Windows NT ...</td>\n",
       "      <td>Mozilla/5.0 (Macintosh; PPC Mac OS X 10_11_5; ...</td>\n",
       "      <td>Mozilla/5.0 (compatible; MSIE 5.0; Windows NT ...</td>\n",
       "    </tr>\n",
       "    <tr>\n",
       "      <th>Network Segment</th>\n",
       "      <td>Segment A</td>\n",
       "      <td>Segment B</td>\n",
       "      <td>Segment C</td>\n",
       "      <td>Segment B</td>\n",
       "      <td>Segment C</td>\n",
       "    </tr>\n",
       "    <tr>\n",
       "      <th>Geo-location Data</th>\n",
       "      <td>Jamshedpur, Sikkim</td>\n",
       "      <td>Bilaspur, Nagaland</td>\n",
       "      <td>Bokaro, Rajasthan</td>\n",
       "      <td>Jaunpur, Rajasthan</td>\n",
       "      <td>Anantapur, Tripura</td>\n",
       "    </tr>\n",
       "    <tr>\n",
       "      <th>Proxy Information</th>\n",
       "      <td>150.9.97.135</td>\n",
       "      <td>NaN</td>\n",
       "      <td>114.133.48.179</td>\n",
       "      <td>NaN</td>\n",
       "      <td>149.6.110.119</td>\n",
       "    </tr>\n",
       "    <tr>\n",
       "      <th>Firewall Logs</th>\n",
       "      <td>Log Data</td>\n",
       "      <td>Log Data</td>\n",
       "      <td>Log Data</td>\n",
       "      <td>NaN</td>\n",
       "      <td>NaN</td>\n",
       "    </tr>\n",
       "    <tr>\n",
       "      <th>IDS/IPS Alerts</th>\n",
       "      <td>NaN</td>\n",
       "      <td>NaN</td>\n",
       "      <td>Alert Data</td>\n",
       "      <td>Alert Data</td>\n",
       "      <td>Alert Data</td>\n",
       "    </tr>\n",
       "    <tr>\n",
       "      <th>Log Source</th>\n",
       "      <td>Server</td>\n",
       "      <td>Firewall</td>\n",
       "      <td>Firewall</td>\n",
       "      <td>Firewall</td>\n",
       "      <td>Firewall</td>\n",
       "    </tr>\n",
       "  </tbody>\n",
       "</table>\n",
       "</div>"
      ],
      "text/plain": [
       "                                                                        0  \\\n",
       "Timestamp                                             2023-05-30 06:33:58   \n",
       "Source IP Address                                           103.216.15.12   \n",
       "Destination IP Address                                       84.9.164.252   \n",
       "Source Port                                                         31225   \n",
       "Destination Port                                                    17616   \n",
       "Protocol                                                             ICMP   \n",
       "Packet Length                                                         503   \n",
       "Packet Type                                                          Data   \n",
       "Traffic Type                                                         HTTP   \n",
       "Payload Data            Qui natus odio asperiores nam. Optio nobis ius...   \n",
       "Malware Indicators                                           IoC Detected   \n",
       "Anomaly Scores                                                      28.67   \n",
       "Alerts/Warnings                                                       NaN   \n",
       "Attack Type                                                       Malware   \n",
       "Attack Signature                                          Known Pattern B   \n",
       "Action Taken                                                       Logged   \n",
       "Severity Level                                                        Low   \n",
       "User Information                                            Reyansh Dugal   \n",
       "Device Information      Mozilla/5.0 (compatible; MSIE 8.0; Windows NT ...   \n",
       "Network Segment                                                 Segment A   \n",
       "Geo-location Data                                      Jamshedpur, Sikkim   \n",
       "Proxy Information                                            150.9.97.135   \n",
       "Firewall Logs                                                    Log Data   \n",
       "IDS/IPS Alerts                                                        NaN   \n",
       "Log Source                                                         Server   \n",
       "\n",
       "                                                                        1  \\\n",
       "Timestamp                                             2020-08-26 07:08:30   \n",
       "Source IP Address                                          78.199.217.198   \n",
       "Destination IP Address                                     66.191.137.154   \n",
       "Source Port                                                         17245   \n",
       "Destination Port                                                    48166   \n",
       "Protocol                                                             ICMP   \n",
       "Packet Length                                                        1174   \n",
       "Packet Type                                                          Data   \n",
       "Traffic Type                                                         HTTP   \n",
       "Payload Data            Aperiam quos modi officiis veritatis rem. Omni...   \n",
       "Malware Indicators                                           IoC Detected   \n",
       "Anomaly Scores                                                       51.5   \n",
       "Alerts/Warnings                                                       NaN   \n",
       "Attack Type                                                       Malware   \n",
       "Attack Signature                                          Known Pattern A   \n",
       "Action Taken                                                      Blocked   \n",
       "Severity Level                                                        Low   \n",
       "User Information                                               Sumer Rana   \n",
       "Device Information      Mozilla/5.0 (compatible; MSIE 8.0; Windows NT ...   \n",
       "Network Segment                                                 Segment B   \n",
       "Geo-location Data                                      Bilaspur, Nagaland   \n",
       "Proxy Information                                                     NaN   \n",
       "Firewall Logs                                                    Log Data   \n",
       "IDS/IPS Alerts                                                        NaN   \n",
       "Log Source                                                       Firewall   \n",
       "\n",
       "                                                                        2  \\\n",
       "Timestamp                                             2022-11-13 08:23:25   \n",
       "Source IP Address                                            63.79.210.48   \n",
       "Destination IP Address                                      198.219.82.17   \n",
       "Source Port                                                         16811   \n",
       "Destination Port                                                    53600   \n",
       "Protocol                                                              UDP   \n",
       "Packet Length                                                         306   \n",
       "Packet Type                                                       Control   \n",
       "Traffic Type                                                         HTTP   \n",
       "Payload Data            Perferendis sapiente vitae soluta. Hic delectu...   \n",
       "Malware Indicators                                           IoC Detected   \n",
       "Anomaly Scores                                                      87.42   \n",
       "Alerts/Warnings                                           Alert Triggered   \n",
       "Attack Type                                                          DDoS   \n",
       "Attack Signature                                          Known Pattern B   \n",
       "Action Taken                                                      Ignored   \n",
       "Severity Level                                                        Low   \n",
       "User Information                                             Himmat Karpe   \n",
       "Device Information      Mozilla/5.0 (compatible; MSIE 9.0; Windows NT ...   \n",
       "Network Segment                                                 Segment C   \n",
       "Geo-location Data                                       Bokaro, Rajasthan   \n",
       "Proxy Information                                          114.133.48.179   \n",
       "Firewall Logs                                                    Log Data   \n",
       "IDS/IPS Alerts                                                 Alert Data   \n",
       "Log Source                                                       Firewall   \n",
       "\n",
       "                                                                        3  \\\n",
       "Timestamp                                             2023-07-02 10:38:46   \n",
       "Source IP Address                                           163.42.196.10   \n",
       "Destination IP Address                                    101.228.192.255   \n",
       "Source Port                                                         20018   \n",
       "Destination Port                                                    32534   \n",
       "Protocol                                                              UDP   \n",
       "Packet Length                                                         385   \n",
       "Packet Type                                                          Data   \n",
       "Traffic Type                                                         HTTP   \n",
       "Payload Data            Totam maxime beatae expedita explicabo porro l...   \n",
       "Malware Indicators                                                    NaN   \n",
       "Anomaly Scores                                                      15.79   \n",
       "Alerts/Warnings                                           Alert Triggered   \n",
       "Attack Type                                                       Malware   \n",
       "Attack Signature                                          Known Pattern B   \n",
       "Action Taken                                                      Blocked   \n",
       "Severity Level                                                     Medium   \n",
       "User Information                                               Fateh Kibe   \n",
       "Device Information      Mozilla/5.0 (Macintosh; PPC Mac OS X 10_11_5; ...   \n",
       "Network Segment                                                 Segment B   \n",
       "Geo-location Data                                      Jaunpur, Rajasthan   \n",
       "Proxy Information                                                     NaN   \n",
       "Firewall Logs                                                         NaN   \n",
       "IDS/IPS Alerts                                                 Alert Data   \n",
       "Log Source                                                       Firewall   \n",
       "\n",
       "                                                                        4  \n",
       "Timestamp                                             2023-07-16 13:11:07  \n",
       "Source IP Address                                           71.166.185.76  \n",
       "Destination IP Address                                    189.243.174.238  \n",
       "Source Port                                                          6131  \n",
       "Destination Port                                                    26646  \n",
       "Protocol                                                              TCP  \n",
       "Packet Length                                                        1462  \n",
       "Packet Type                                                          Data  \n",
       "Traffic Type                                                          DNS  \n",
       "Payload Data            Odit nesciunt dolorem nisi iste iusto. Animi v...  \n",
       "Malware Indicators                                                    NaN  \n",
       "Anomaly Scores                                                       0.52  \n",
       "Alerts/Warnings                                           Alert Triggered  \n",
       "Attack Type                                                          DDoS  \n",
       "Attack Signature                                          Known Pattern B  \n",
       "Action Taken                                                      Blocked  \n",
       "Severity Level                                                        Low  \n",
       "User Information                                             Dhanush Chad  \n",
       "Device Information      Mozilla/5.0 (compatible; MSIE 5.0; Windows NT ...  \n",
       "Network Segment                                                 Segment C  \n",
       "Geo-location Data                                      Anantapur, Tripura  \n",
       "Proxy Information                                           149.6.110.119  \n",
       "Firewall Logs                                                         NaN  \n",
       "IDS/IPS Alerts                                                 Alert Data  \n",
       "Log Source                                                       Firewall  "
      ]
     },
     "execution_count": 11,
     "metadata": {},
     "output_type": "execute_result"
    }
   ],
   "source": [
    "data=pd.read_csv('cybersecurity_attacks.csv')\n",
    "data.head().T"
   ]
  },
  {
   "cell_type": "code",
   "execution_count": 4,
   "id": "b1710ddc-196b-49cc-8884-429cd669dee1",
   "metadata": {},
   "outputs": [
    {
     "name": "stdout",
     "output_type": "stream",
     "text": [
      "<class 'pandas.core.frame.DataFrame'>\n",
      "RangeIndex: 40000 entries, 0 to 39999\n",
      "Data columns (total 25 columns):\n",
      " #   Column                  Non-Null Count  Dtype  \n",
      "---  ------                  --------------  -----  \n",
      " 0   Timestamp               40000 non-null  object \n",
      " 1   Source IP Address       40000 non-null  object \n",
      " 2   Destination IP Address  40000 non-null  object \n",
      " 3   Source Port             40000 non-null  int64  \n",
      " 4   Destination Port        40000 non-null  int64  \n",
      " 5   Protocol                40000 non-null  object \n",
      " 6   Packet Length           40000 non-null  int64  \n",
      " 7   Packet Type             40000 non-null  object \n",
      " 8   Traffic Type            40000 non-null  object \n",
      " 9   Payload Data            40000 non-null  object \n",
      " 10  Malware Indicators      20000 non-null  object \n",
      " 11  Anomaly Scores          40000 non-null  float64\n",
      " 12  Alerts/Warnings         19933 non-null  object \n",
      " 13  Attack Type             40000 non-null  object \n",
      " 14  Attack Signature        40000 non-null  object \n",
      " 15  Action Taken            40000 non-null  object \n",
      " 16  Severity Level          40000 non-null  object \n",
      " 17  User Information        40000 non-null  object \n",
      " 18  Device Information      40000 non-null  object \n",
      " 19  Network Segment         40000 non-null  object \n",
      " 20  Geo-location Data       40000 non-null  object \n",
      " 21  Proxy Information       20149 non-null  object \n",
      " 22  Firewall Logs           20039 non-null  object \n",
      " 23  IDS/IPS Alerts          19950 non-null  object \n",
      " 24  Log Source              40000 non-null  object \n",
      "dtypes: float64(1), int64(3), object(21)\n",
      "memory usage: 7.6+ MB\n"
     ]
    }
   ],
   "source": [
    "data.info()"
   ]
  },
  {
   "cell_type": "code",
   "execution_count": 6,
   "id": "5a9ee1c9-ac67-454a-ba99-be025db0d55f",
   "metadata": {},
   "outputs": [
    {
     "data": {
      "text/plain": [
       "Index(['Timestamp', 'Source IP Address', 'Destination IP Address',\n",
       "       'Source Port', 'Destination Port', 'Protocol', 'Packet Length',\n",
       "       'Packet Type', 'Traffic Type', 'Payload Data', 'Malware Indicators',\n",
       "       'Anomaly Scores', 'Alerts/Warnings', 'Attack Type', 'Attack Signature',\n",
       "       'Action Taken', 'Severity Level', 'User Information',\n",
       "       'Device Information', 'Network Segment', 'Geo-location Data',\n",
       "       'Proxy Information', 'Firewall Logs', 'IDS/IPS Alerts', 'Log Source'],\n",
       "      dtype='object')"
      ]
     },
     "execution_count": 6,
     "metadata": {},
     "output_type": "execute_result"
    }
   ],
   "source": [
    "data.columns"
   ]
  },
  {
   "cell_type": "code",
   "execution_count": 7,
   "id": "d4b7938e-5559-407f-9032-0a1f338cc96d",
   "metadata": {},
   "outputs": [
    {
     "data": {
      "text/plain": [
       "(40000, 25)"
      ]
     },
     "execution_count": 7,
     "metadata": {},
     "output_type": "execute_result"
    }
   ],
   "source": [
    "data.shape"
   ]
  },
  {
   "cell_type": "code",
   "execution_count": 8,
   "id": "a5ee80ad-ff52-420e-8f93-41e415ed7374",
   "metadata": {},
   "outputs": [
    {
     "data": {
      "text/plain": [
       "Alerts/Warnings           20067\n",
       "IDS/IPS Alerts            20050\n",
       "Malware Indicators        20000\n",
       "Firewall Logs             19961\n",
       "Proxy Information         19851\n",
       "Source IP Address             0\n",
       "Destination IP Address        0\n",
       "Source Port                   0\n",
       "Timestamp                     0\n",
       "Traffic Type                  0\n",
       "Packet Type                   0\n",
       "Packet Length                 0\n",
       "Protocol                      0\n",
       "Destination Port              0\n",
       "Attack Type                   0\n",
       "Payload Data                  0\n",
       "Anomaly Scores                0\n",
       "Severity Level                0\n",
       "Action Taken                  0\n",
       "Attack Signature              0\n",
       "User Information              0\n",
       "Geo-location Data             0\n",
       "Network Segment               0\n",
       "Device Information            0\n",
       "Log Source                    0\n",
       "dtype: int64"
      ]
     },
     "execution_count": 8,
     "metadata": {},
     "output_type": "execute_result"
    }
   ],
   "source": [
    "data.isnull().sum().sort_values(ascending=False)"
   ]
  },
  {
   "cell_type": "markdown",
   "id": "a63d5b00-d029-4971-a247-5d0fb5a1a04c",
   "metadata": {},
   "source": [
    "<span style=\"color:green\"> There are 5 columns with null values. </span>"
   ]
  },
  {
   "cell_type": "markdown",
   "id": "0c867126-e73e-493d-98ef-c758a8ded3c4",
   "metadata": {},
   "source": [
    "<span style=\"color: Purple\">Data Cleaning</span>"
   ]
  },
  {
   "cell_type": "markdown",
   "id": "f9287eab-3bae-44b7-bf2f-12ba5b396ebe",
   "metadata": {},
   "source": [
    "Deleting null values:"
   ]
  },
  {
   "cell_type": "code",
   "execution_count": 18,
   "id": "7902ca4e-0f9b-4c13-84f8-eca21da62e6e",
   "metadata": {},
   "outputs": [
    {
     "data": {
      "text/plain": [
       "array(['Alert Triggered'], dtype=object)"
      ]
     },
     "execution_count": 18,
     "metadata": {},
     "output_type": "execute_result"
    }
   ],
   "source": [
    "data['Alerts/Warnings'].unique()"
   ]
  },
  {
   "cell_type": "code",
   "execution_count": 20,
   "id": "1c5bdd4d-3d6d-493f-a6da-7f169c804239",
   "metadata": {},
   "outputs": [
    {
     "data": {
      "text/plain": [
       "2        Alert Triggered\n",
       "7        Alert Triggered\n",
       "46       Alert Triggered\n",
       "97       Alert Triggered\n",
       "105      Alert Triggered\n",
       "              ...       \n",
       "39832    Alert Triggered\n",
       "39887    Alert Triggered\n",
       "39896    Alert Triggered\n",
       "39905    Alert Triggered\n",
       "39956    Alert Triggered\n",
       "Name: Alerts/Warnings, Length: 1237, dtype: object"
      ]
     },
     "execution_count": 20,
     "metadata": {},
     "output_type": "execute_result"
    }
   ],
   "source": [
    "def categorize_alerts(row):\n",
    "    if row['Alerts/Warnings'] ==\"Alert Triggered\":\n",
    "        return 'Alert Triggered'\n",
    "    else:\n",
    "        return 'None'\n",
    "\n",
    "data['Alerts/Warnings'] = data.apply(categorize_alerts, axis=1)\n",
    "data['Alerts/Warnings']"
   ]
  },
  {
   "cell_type": "code",
   "execution_count": 21,
   "id": "e327c055-9661-4146-9516-f88f7e058ef1",
   "metadata": {},
   "outputs": [
    {
     "data": {
      "text/plain": [
       "array(['Alert Data'], dtype=object)"
      ]
     },
     "execution_count": 21,
     "metadata": {},
     "output_type": "execute_result"
    }
   ],
   "source": [
    "data['IDS/IPS Alerts'].unique()"
   ]
  },
  {
   "cell_type": "code",
   "execution_count": 23,
   "id": "bd5ebdeb-220b-4803-a8af-1e48136b34d2",
   "metadata": {},
   "outputs": [
    {
     "data": {
      "text/plain": [
       "array(['Alert Data'], dtype=object)"
      ]
     },
     "execution_count": 23,
     "metadata": {},
     "output_type": "execute_result"
    }
   ],
   "source": [
    "data['IDS/IPS Alerts'] = data['IDS/IPS Alerts'].apply(lambda x: 'No Data' \n",
    "                                                  if pd.isna(x) \n",
    "                                                  else x)\n",
    "data['IDS/IPS Alerts'].unique()"
   ]
  },
  {
   "cell_type": "code",
   "execution_count": 24,
   "id": "51652c2d-5b24-40ec-91b8-36bd37c892b2",
   "metadata": {},
   "outputs": [
    {
     "data": {
      "text/plain": [
       "array(['IoC Detected'], dtype=object)"
      ]
     },
     "execution_count": 24,
     "metadata": {},
     "output_type": "execute_result"
    }
   ],
   "source": [
    "data['Malware Indicators'].unique()"
   ]
  },
  {
   "cell_type": "code",
   "execution_count": 25,
   "id": "b9367ec1-3a06-4479-b0dd-5fbf5ce5bc46",
   "metadata": {},
   "outputs": [
    {
     "data": {
      "text/plain": [
       "array(['IoC Detected'], dtype=object)"
      ]
     },
     "execution_count": 25,
     "metadata": {},
     "output_type": "execute_result"
    }
   ],
   "source": [
    "data['Malware Indicators'] = data['Malware Indicators'].apply(lambda x: 'No Detection'\n",
    "                                                         if pd.isna(x)\n",
    "                                                         else x)\n",
    "data['Malware Indicators'].unique()"
   ]
  },
  {
   "cell_type": "code",
   "execution_count": 26,
   "id": "54cdf6cb-9f73-462f-98c0-2ba612893032",
   "metadata": {},
   "outputs": [
    {
     "data": {
      "text/plain": [
       "array(['Log Data'], dtype=object)"
      ]
     },
     "execution_count": 26,
     "metadata": {},
     "output_type": "execute_result"
    }
   ],
   "source": [
    "data['Firewall Logs'] = data['Firewall Logs'].apply(lambda x: 'No Data'\n",
    "                                               if pd.isna(x)\n",
    "                                               else x)\n",
    "data['Firewall Logs'].unique()"
   ]
  },
  {
   "cell_type": "code",
   "execution_count": 27,
   "id": "15c805e9-c7d8-4e76-813c-2bbd3b2c1efa",
   "metadata": {},
   "outputs": [
    {
     "data": {
      "text/plain": [
       "array(['114.133.48.179', '192.31.159.5', '95.170.137.42', ...,\n",
       "       '188.237.180.226', '223.20.78.165', '43.57.174.231'],\n",
       "      shape=(1237,), dtype=object)"
      ]
     },
     "execution_count": 27,
     "metadata": {},
     "output_type": "execute_result"
    }
   ],
   "source": [
    "data['Proxy Information'].unique()"
   ]
  },
  {
   "cell_type": "code",
   "execution_count": 28,
   "id": "5ff22517-285d-471a-a268-6fbcaef7f00c",
   "metadata": {},
   "outputs": [
    {
     "data": {
      "text/plain": [
       "array(['114.133.48.179', '192.31.159.5', '95.170.137.42', ...,\n",
       "       '188.237.180.226', '223.20.78.165', '43.57.174.231'],\n",
       "      shape=(1237,), dtype=object)"
      ]
     },
     "execution_count": 28,
     "metadata": {},
     "output_type": "execute_result"
    }
   ],
   "source": [
    "data['Proxy Information'] = data['Proxy Information'].apply(lambda x: 'No Proxy Data'\n",
    "                                                       if pd.isna(x)\n",
    "                                                       else x)\n",
    "data['Proxy Information'].unique()"
   ]
  },
  {
   "cell_type": "code",
   "execution_count": 29,
   "id": "30e0ffbb-c155-4eac-b6f0-f04ce9601be4",
   "metadata": {},
   "outputs": [
    {
     "data": {
      "text/plain": [
       "Timestamp                 0\n",
       "Source IP Address         0\n",
       "Destination IP Address    0\n",
       "Source Port               0\n",
       "Destination Port          0\n",
       "Protocol                  0\n",
       "Packet Length             0\n",
       "Packet Type               0\n",
       "Traffic Type              0\n",
       "Payload Data              0\n",
       "Malware Indicators        0\n",
       "Anomaly Scores            0\n",
       "Alerts/Warnings           0\n",
       "Attack Type               0\n",
       "Attack Signature          0\n",
       "Action Taken              0\n",
       "Severity Level            0\n",
       "User Information          0\n",
       "Device Information        0\n",
       "Network Segment           0\n",
       "Geo-location Data         0\n",
       "Proxy Information         0\n",
       "Firewall Logs             0\n",
       "IDS/IPS Alerts            0\n",
       "Log Source                0\n",
       "Browser                   0\n",
       "dtype: int64"
      ]
     },
     "execution_count": 29,
     "metadata": {},
     "output_type": "execute_result"
    }
   ],
   "source": [
    "data.isnull().sum().sort_values(ascending=False)"
   ]
  },
  {
   "cell_type": "code",
   "execution_count": null,
   "id": "af2d9a33-ed41-4929-a590-f9a6d520374b",
   "metadata": {},
   "outputs": [],
   "source": []
  },
  {
   "cell_type": "code",
   "execution_count": 14,
   "id": "69b4b912-2fa4-45b3-be0a-b8c364456fe6",
   "metadata": {
    "scrolled": true
   },
   "outputs": [
    {
     "data": {
      "text/plain": [
       "2        Mozilla/5.0 (compatible; MSIE 9.0; Windows NT ...\n",
       "7        Mozilla/5.0 (Macintosh; U; PPC Mac OS X 10_7_6...\n",
       "46       Mozilla/5.0 (iPod; U; CPU iPhone OS 3_3 like M...\n",
       "97       Mozilla/5.0 (compatible; MSIE 8.0; Windows 95;...\n",
       "105      Mozilla/5.0 (iPod; U; CPU iPhone OS 3_0 like M...\n",
       "                               ...                        \n",
       "39832    Mozilla/5.0 (Windows NT 6.1) AppleWebKit/531.1...\n",
       "39887    Mozilla/5.0 (compatible; MSIE 6.0; Windows NT ...\n",
       "39896    Mozilla/5.0 (iPad; CPU iPad OS 9_3_5 like Mac ...\n",
       "39905    Mozilla/5.0 (Macintosh; Intel Mac OS X 10_9_1 ...\n",
       "39956    Mozilla/5.0 (iPod; U; CPU iPhone OS 4_2 like M...\n",
       "Name: Device Information, Length: 1237, dtype: object"
      ]
     },
     "execution_count": 14,
     "metadata": {},
     "output_type": "execute_result"
    }
   ],
   "source": [
    "data['Device Information']"
   ]
  },
  {
   "cell_type": "code",
   "execution_count": 17,
   "id": "68f7fd76-502e-4def-bb3b-c4d3ab6be6ec",
   "metadata": {},
   "outputs": [
    {
     "data": {
      "text/plain": [
       "2        Mozilla\n",
       "7        Mozilla\n",
       "46       Mozilla\n",
       "97       Mozilla\n",
       "105      Mozilla\n",
       "          ...   \n",
       "39832    Mozilla\n",
       "39887    Mozilla\n",
       "39896    Mozilla\n",
       "39905    Mozilla\n",
       "39956    Mozilla\n",
       "Name: Browser, Length: 1237, dtype: object"
      ]
     },
     "execution_count": 17,
     "metadata": {},
     "output_type": "execute_result"
    }
   ],
   "source": [
    "data['Browser']=data['Device Information'].str.split('/').str[0]\n",
    "data['Browser']"
   ]
  },
  {
   "cell_type": "code",
   "execution_count": 31,
   "id": "c63e8970-5ca7-4300-b153-5ce457ce773e",
   "metadata": {},
   "outputs": [],
   "source": [
    "import re\n",
    "\n",
    "systems= [\n",
    "    r'Windows',\n",
    "    r'Linux',\n",
    "    r'Android',\n",
    "    r'iPad',\n",
    "    r'iPod',\n",
    "    r'iPhone',\n",
    "    r'Macintosh',\n",
    "]\n",
    "\n",
    "def device_finder(user_agent):\n",
    "    for s in systems:\n",
    "        match = re.search(s, user_agent, re.I)  # re.I makes the search case-insensitive\n",
    "        if match:\n",
    "            return match.group()\n",
    "    return 'Unknown'  \n",
    "\n",
    "\n",
    "data['Device/OS'] = data['Device Information'].apply(device_finder)"
   ]
  },
  {
   "cell_type": "code",
   "execution_count": null,
   "id": "8087d285-7fba-427d-a22f-4a6b59d18bca",
   "metadata": {},
   "outputs": [],
   "source": []
  }
 ],
 "metadata": {
  "kernelspec": {
   "display_name": "Python 3 (ipykernel)",
   "language": "python",
   "name": "python3"
  },
  "language_info": {
   "codemirror_mode": {
    "name": "ipython",
    "version": 3
   },
   "file_extension": ".py",
   "mimetype": "text/x-python",
   "name": "python",
   "nbconvert_exporter": "python",
   "pygments_lexer": "ipython3",
   "version": "3.11.9"
  }
 },
 "nbformat": 4,
 "nbformat_minor": 5
}
